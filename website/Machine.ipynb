{
  "cells": [
    {
      "cell_type": "markdown",
      "metadata": {
        "colab_type": "text",
        "id": "view-in-github"
      },
      "source": [
        "<a href=\"https://colab.research.google.com/github/ScrumptiousLaroi/ScrumptiousLaroi/blob/CS50-Final-Project/Targetted_Cancer_Therapies_in_treating_acute_myleoid_leukimia.ipynb\" target=\"_parent\"><img src=\"https://colab.research.google.com/assets/colab-badge.svg\" alt=\"Open In Colab\"/></a>"
      ]
    },
    {
      "cell_type": "markdown",
      "metadata": {
        "id": "kVxywIAr9y6n"
      },
      "source": [
        "**Drug Responce Prediction** : Predict how different pateints will react to different drugs based on there genetic profiles\n",
        "\n",
        "Import the data and break training and validation data"
      ]
    },
    {
      "cell_type": "code",
      "execution_count": 1,
      "metadata": {
        "tags": [
          "parameters"
        ]
      },
      "outputs": [],
      "source": [
        "# Parameters\n",
        "file_path = None\n"
      ]
    },
    {
      "cell_type": "code",
      "execution_count": 2,
      "metadata": {
        "id": "ECxQPVpE9ovA"
      },
      "outputs": [
        {
          "name": "stdout",
          "output_type": "stream",
          "text": [
            "File not found: --f=/home/ubuntu/.local/share/jupyter/runtime/kernel-v3fce969798441b20e5bab9835dc497b8411ff644e.json\n"
          ]
        },
        {
          "ename": "SystemExit",
          "evalue": "1",
          "output_type": "error",
          "traceback": [
            "An exception has occurred, use %tb to see the full traceback.\n",
            "\u001b[0;31mSystemExit\u001b[0m\u001b[0;31m:\u001b[0m 1\n"
          ]
        },
        {
          "name": "stderr",
          "output_type": "stream",
          "text": [
            "/home/ubuntu/.local/lib/python3.12/site-packages/IPython/core/interactiveshell.py:3585: UserWarning: To exit: use 'exit', 'quit', or Ctrl-D.\n",
            "  warn(\"To exit: use 'exit', 'quit', or Ctrl-D.\", stacklevel=1)\n"
          ]
        }
      ],
      "source": [
        "import pandas as pd\n",
        "import sys\n",
        "from sklearn.ensemble import RandomForestRegressor\n",
        "from sklearn.metrics import mean_absolute_error\n",
        "from sklearn.model_selection import train_test_split\n",
        "\n",
        "\n",
        "\n",
        "# Load the data and separate the target (what is to be predicted = target)\n",
        "try:\n",
        "    cancer_data = pd.read_csv(file_path)\n",
        "except FileNotFoundError:\n",
        "    print(f\"File not found: {file_path}\")\n",
        "    sys.exit(1)\n",
        "except pd.errors.EmptyDataError:\n",
        "    print(f\"Empty data file: {file_path}\")\n",
        "    sys.exit(1)\n",
        "except Exception as e:\n",
        "    print(f\"Error loading data: {e}\")\n",
        "    sys.exit(1)\n",
        "\n",
        "\n",
        "\n",
        "# Load the data and separate the target (what is to be predicted = target)\n",
        "cancer_data = pd.read_csv(file_path)\n",
        "y = cancer_data.ic50_effect_size\n",
        "\n",
        "# Create X (which is list of features basis of which we'll predict data)\n",
        "features = ['n_feature_pos', 'n_feature_neg', 'feature_pval', 'msi_pval', 'fdr']\n",
        "\n",
        "# Selecting corresponding features\n",
        "X = cancer_data[features]\n",
        "\n",
        "# Split into validations and training data\n",
        "train_X, val_X, train_y, val_y = train_test_split(X, y, random_state=1)\n",
        "\n",
        "# Define a random forest model\n",
        "rf_model = RandomForestRegressor(random_state=1)\n",
        "rf_model.fit(train_X, train_y)\n",
        "rf_val_predictions = rf_model.predict(val_X)\n",
        "rf_val_mae = mean_absolute_error(rf_val_predictions, val_y)"
      ]
    },
    {
      "cell_type": "markdown",
      "metadata": {
        "id": "TGGs2XFhOFGb"
      },
      "source": [
        "To Improve accurace, I'll build a random forest model and train it on all of X and y"
      ]
    },
    {
      "cell_type": "code",
      "execution_count": 2,
      "metadata": {
        "colab": {
          "base_uri": "https://localhost:8080/",
          "height": 80
        },
        "id": "FmNqFshLOLVJ",
        "outputId": "46669d64-4d4c-4f99-bca8-1ebbb069fde2"
      },
      "outputs": [
        {
          "ename": "NameError",
          "evalue": "name 'X' is not defined",
          "output_type": "error",
          "traceback": [
            "\u001b[0;31m---------------------------------------------------------------------------\u001b[0m",
            "\u001b[0;31mNameError\u001b[0m                                 Traceback (most recent call last)",
            "Cell \u001b[0;32mIn[2], line 3\u001b[0m\n\u001b[1;32m      1\u001b[0m rf_model_full_data \u001b[38;5;241m=\u001b[39m RandomForestRegressor()\n\u001b[0;32m----> 3\u001b[0m rf_model_full_data\u001b[38;5;241m.\u001b[39mfit(\u001b[43mX\u001b[49m, y)\n",
            "\u001b[0;31mNameError\u001b[0m: name 'X' is not defined"
          ]
        }
      ],
      "source": [
        "rf_model_full_data = RandomForestRegressor()\n",
        "\n",
        "rf_model_full_data.fit(X, y)"
      ]
    },
    {
      "cell_type": "markdown",
      "metadata": {
        "id": "0aBIt0wRPQWs"
      },
      "source": [
        "**Using test data to make predictions**"
      ]
    },
    {
      "cell_type": "code",
      "execution_count": 9,
      "metadata": {
        "id": "kRecqFenPUOk"
      },
      "outputs": [],
      "source": [
        "test_data_path = file_path\n",
        "\n",
        "test_data = pd.read_csv(test_data_path)\n",
        "# creating test_X which has all the same features used for making the model\n",
        "test_X = test_data[features]\n",
        "\n",
        "#make predictions\n",
        "test_prediction = rf_model_full_data.predict(test_X)\n",
        "\n",
        "# Define the static features\n",
        "features_static = ['Drug name', 'Drug target', 'Target Pathway', 'Feature Name']\n",
        "\n"
      ]
    },
    {
      "cell_type": "markdown",
      "metadata": {
        "id": "mDWS0rWRP2Gd"
      },
      "source": [
        "Saving predictions and exporting it to a csv file"
      ]
    },
    {
      "cell_type": "code",
      "execution_count": 10,
      "metadata": {
        "id": "0OafaWPbQAsj"
      },
      "outputs": [],
      "source": [
        "# Create a DataFrame with the specified columns\n",
        "output = cancer_data[features_static].copy()\n",
        "\n",
        "# Add the test_prediction values to the DataFrame\n",
        "output['ic50_effect_size'] = test_prediction\n",
        "\n",
        "output.to_csv('Predicted_data.csv', index=False)"
      ]
    }
  ],
  "metadata": {
    "colab": {
      "authorship_tag": "ABX9TyMC6iMUgveQ077DqvOHmCrD",
      "include_colab_link": true,
      "mount_file_id": "1L5xNEBeSpYgg4-AgGsgShcHIeDtA3hGm",
      "provenance": []
    },
    "kernelspec": {
      "display_name": "Python 3",
      "name": "python3"
    },
    "language_info": {
      "codemirror_mode": {
        "name": "ipython",
        "version": 3
      },
      "file_extension": ".py",
      "mimetype": "text/x-python",
      "name": "python",
      "nbconvert_exporter": "python",
      "pygments_lexer": "ipython3",
      "version": "3.12.5"
    }
  },
  "nbformat": 4,
  "nbformat_minor": 0
}
